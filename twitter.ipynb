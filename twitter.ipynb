{
  "nbformat": 4,
  "nbformat_minor": 0,
  "metadata": {
    "colab": {
      "name": "twitter.ipynb",
      "provenance": []
    },
    "kernelspec": {
      "name": "python3",
      "display_name": "Python 3"
    },
    "language_info": {
      "name": "python"
    }
  },
  "cells": [
    {
      "cell_type": "code",
      "metadata": {
        "colab": {
          "base_uri": "https://localhost:8080/"
        },
        "id": "B_jVFG0m0dpO",
        "outputId": "91d7909f-45a4-4a26-9965-d785fff15b10"
      },
      "source": [
        "import pandas as pd\n",
        "import numpy as np\n",
        "import matplotlib.pyplot as plt\n",
        "import seaborn as sn\n",
        "import re\n",
        "import nltk\n",
        "from tqdm import tqdm\n",
        "import scipy\n",
        "from collections import Counter\n",
        "from sklearn.model_selection import RandomizedSearchCV\n",
        "import nltk\n",
        "from nltk.sentiment.vader import SentimentIntensityAnalyzer\n",
        "from sklearn.metrics import f1_score\n",
        "from sklearn.model_selection import train_test_split\n",
        "from sklearn.metrics import classification_report"
      ],
      "execution_count": 1,
      "outputs": [
        {
          "output_type": "stream",
          "name": "stderr",
          "text": [
            "/usr/local/lib/python3.7/dist-packages/nltk/twitter/__init__.py:20: UserWarning: The twython library has not been installed. Some functionality from the twitter package will not be available.\n",
            "  warnings.warn(\"The twython library has not been installed. \"\n"
          ]
        }
      ]
    },
    {
      "cell_type": "code",
      "metadata": {
        "id": "SditBcWb0_cf"
      },
      "source": [
        "train=pd.read_csv(\"train.csv\")"
      ],
      "execution_count": 2,
      "outputs": []
    },
    {
      "cell_type": "code",
      "metadata": {
        "id": "4OnTDs140_dh"
      },
      "source": [
        "test=pd.read_csv(\"test.csv\")"
      ],
      "execution_count": 3,
      "outputs": []
    },
    {
      "cell_type": "code",
      "metadata": {
        "id": "tDrcQM092NuO"
      },
      "source": [
        "train"
      ],
      "execution_count": null,
      "outputs": []
    },
    {
      "cell_type": "code",
      "metadata": {
        "id": "iqRyoKZS2Pr9"
      },
      "source": [
        "test"
      ],
      "execution_count": null,
      "outputs": []
    },
    {
      "cell_type": "code",
      "metadata": {
        "id": "EKJixS4i2SUU",
        "colab": {
          "base_uri": "https://localhost:8080/",
          "height": 387
        },
        "outputId": "c77d759f-5410-41b7-fd0c-5f4ef119b0be"
      },
      "source": [
        "import seaborn as sns\n",
        "sns.displot(train['label'])"
      ],
      "execution_count": 7,
      "outputs": [
        {
          "output_type": "execute_result",
          "data": {
            "text/plain": [
              "<seaborn.axisgrid.FacetGrid at 0x7f16c7b915d0>"
            ]
          },
          "metadata": {},
          "execution_count": 7
        },
        {
          "output_type": "display_data",
          "data": {
            "image/png": "[encoded data removed]",
            "text/plain": [
              "<Figure size 360x360 with 1 Axes>"
            ]
          },
          "metadata": {
            "needs_background": "light"
          }
        }
      ]
    },
    {
      "cell_type": "code",
      "metadata": {
        "id": "37UvgjLPbUNk"
      },
      "source": [
        "label_cnt = train['label'].value_counts()\n",
        "label_cnt"
      ],
      "execution_count": null,
      "outputs": []
    },
    {
      "cell_type": "code",
      "metadata": {
        "id": "rRcjHr9vbYEj"
      },
      "source": [
        "label_pct = train['label'].value_counts() / len(train)\n",
        "label_pct"
      ],
      "execution_count": null,
      "outputs": []
    },
    {
      "cell_type": "code",
      "metadata": {
        "id": "THnoszfKbnn7"
      },
      "source": [
        "label = train['label']\n",
        "\n",
        "train.drop(['label'], axis=1, inplace=True)\n",
        "train"
      ],
      "execution_count": null,
      "outputs": []
    },
    {
      "cell_type": "code",
      "metadata": {
        "id": "Y-91BTS3byZL"
      },
      "source": [
        "combi = train.append(test)\n",
        "combi"
      ],
      "execution_count": null,
      "outputs": []
    },
    {
      "cell_type": "code",
      "metadata": {
        "id": "2dojSYEfbyaM"
      },
      "source": [
        "tweets = combi['tweet']\n",
        "\n",
        "count_words = tweets.str.findall(r'(\\w+)').str.len()\n",
        "print(count_words.sum())"
      ],
      "execution_count": null,
      "outputs": []
    },
    {
      "cell_type": "code",
      "metadata": {
        "id": "tnUm1gEqcRh6"
      },
      "source": [
        "import re\n",
        "nltk.download('stopwords')\n",
        "from nltk.corpus import stopwords"
      ],
      "execution_count": null,
      "outputs": []
    },
    {
      "cell_type": "code",
      "metadata": {
        "id": "lYzFSOrWb3eD"
      },
      "source": [
        "\n",
        "\n",
        "\"\"\" Cleaning Tweets \"\"\"\n",
        "tweets = tweets.str.lower()\n",
        "\n",
        "# removing special characters and numbers\n",
        "tweets = tweets.apply(lambda x : re.sub(\"[^a-z\\s]\",\"\",x) )\n",
        "\n",
        "# remove hash tags\n",
        "tweets = tweets.str.replace(\"#\", \" \")\n",
        "\n",
        "#remove words less than 2 character\n",
        "tweets = tweets.apply(lambda x: ' '.join([w for w in x.split() if len(w)>2]))\n",
        "\n",
        "# removing stopwords\n",
        "stopwords = set(stopwords.words(\"english\"))\n",
        "tweets = tweets.apply(lambda x : \" \".join(word for word in x.split() if word not in stopwords ))\n",
        "\n",
        "\n",
        "count_words = tweets.str.findall(r'(\\w+)').str.len()\n",
        "print(count_words.sum())"
      ],
      "execution_count": null,
      "outputs": []
    },
    {
      "cell_type": "code",
      "metadata": {
        "colab": {
          "base_uri": "https://localhost:8080/"
        },
        "id": "SB2iJ581b3gC",
        "outputId": "6cc7be6f-2742-4006-b3a8-2571ac74d453"
      },
      "source": [
        "most_freq_words = pd.Series(' '.join(tweets).lower().split()).value_counts()[:25]\n",
        "tweets = tweets.apply(lambda x : \" \".join(word for word in x.split() if word not in most_freq_words ))\n",
        "print(most_freq_words)\n",
        "\n",
        "count_words = tweets.str.findall(r'(\\w+)').str.len()\n",
        "print(count_words.sum())"
      ],
      "execution_count": 20,
      "outputs": [
        {
          "output_type": "stream",
          "name": "stdout",
          "text": [
            "iphone         4964\n",
            "apple          3583\n",
            "samsung        1762\n",
            "new            1431\n",
            "phone          1184\n",
            "sony           1051\n",
            "follow          882\n",
            "ipad            641\n",
            "love            548\n",
            "like            538\n",
            "life            510\n",
            "android         487\n",
            "ios             473\n",
            "day             454\n",
            "instagram       452\n",
            "cute            407\n",
            "photo           393\n",
            "gain            387\n",
            "today           386\n",
            "get             384\n",
            "galaxy          364\n",
            "back            359\n",
            "got             348\n",
            "photography     348\n",
            "music           346\n",
            "dtype: int64\n",
            "92093\n"
          ]
        }
      ]
    },
    {
      "cell_type": "code",
      "metadata": {
        "colab": {
          "base_uri": "https://localhost:8080/"
        },
        "id": "4ntVCKXucjVi",
        "outputId": "19f686a8-ae3b-4ae6-926c-7199614ea0ac"
      },
      "source": [
        "from collections import Counter\n",
        "from itertools import chain\n",
        "\n",
        "\n",
        "v = tweets.str.split().tolist() \n",
        "\n",
        "c = Counter(chain.from_iterable(v))\n",
        "\n",
        "tweets = [' '.join([j for j in i if c[j] > 1]) for i in v]\n",
        "\n",
        "total_word = 0\n",
        "for x,word in enumerate(tweets):\n",
        "    num_word = len(word.split())\n",
        " \n",
        "    total_word = total_word + num_word\n",
        "print(total_word)"
      ],
      "execution_count": 21,
      "outputs": [
        {
          "output_type": "stream",
          "name": "stdout",
          "text": [
            "74101\n"
          ]
        }
      ]
    },
    {
      "cell_type": "code",
      "metadata": {
        "id": "FM8Ut-DqcoAy"
      },
      "source": [
        "X = np.array(tweets[: len(train)])\n",
        "y = label"
      ],
      "execution_count": 22,
      "outputs": []
    },
    {
      "cell_type": "code",
      "metadata": {
        "id": "swiK_5r-hgGy"
      },
      "source": [
        "from sklearn import preprocessing\n",
        "from sklearn.preprocessing import LabelEncoder"
      ],
      "execution_count": 31,
      "outputs": []
    },
    {
      "cell_type": "code",
      "metadata": {
        "colab": {
          "base_uri": "https://localhost:8080/",
          "height": 205
        },
        "id": "m0NYFBaIhbQR",
        "outputId": "666c69e3-1875-4b60-f06e-e8274336ed91"
      },
      "source": [
        "le = preprocessing.LabelEncoder()\n",
        "for col in train.columns:\n",
        "    train[col] = le.fit_transform(train[col])\n",
        "train.head()"
      ],
      "execution_count": 42,
      "outputs": [
        {
          "output_type": "execute_result",
          "data": {
            "text/html": [
              "<div>\n",
              "<style scoped>\n",
              "    .dataframe tbody tr th:only-of-type {\n",
              "        vertical-align: middle;\n",
              "    }\n",
              "\n",
              "    .dataframe tbody tr th {\n",
              "        vertical-align: top;\n",
              "    }\n",
              "\n",
              "    .dataframe thead th {\n",
              "        text-align: right;\n",
              "    }\n",
              "</style>\n",
              "<table border=\"1\" class=\"dataframe\">\n",
              "  <thead>\n",
              "    <tr style=\"text-align: right;\">\n",
              "      <th></th>\n",
              "      <th>id</th>\n",
              "      <th>tweet</th>\n",
              "    </tr>\n",
              "  </thead>\n",
              "  <tbody>\n",
              "    <tr>\n",
              "      <th>0</th>\n",
              "      <td>0</td>\n",
              "      <td>399</td>\n",
              "    </tr>\n",
              "    <tr>\n",
              "      <th>1</th>\n",
              "      <td>1</td>\n",
              "      <td>2276</td>\n",
              "    </tr>\n",
              "    <tr>\n",
              "      <th>2</th>\n",
              "      <td>2</td>\n",
              "      <td>6748</td>\n",
              "    </tr>\n",
              "    <tr>\n",
              "      <th>3</th>\n",
              "      <td>3</td>\n",
              "      <td>3719</td>\n",
              "    </tr>\n",
              "    <tr>\n",
              "      <th>4</th>\n",
              "      <td>4</td>\n",
              "      <td>6890</td>\n",
              "    </tr>\n",
              "  </tbody>\n",
              "</table>\n",
              "</div>"
            ],
            "text/plain": [
              "   id  tweet\n",
              "0   0    399\n",
              "1   1   2276\n",
              "2   2   6748\n",
              "3   3   3719\n",
              "4   4   6890"
            ]
          },
          "metadata": {},
          "execution_count": 42
        }
      ]
    },
    {
      "cell_type": "code",
      "metadata": {
        "colab": {
          "base_uri": "https://localhost:8080/"
        },
        "id": "DlOPHVwucsJZ",
        "outputId": "5b52bad5-1fad-4422-da5e-06d597bc9c34"
      },
      "source": [
        "from sklearn.model_selection import train_test_split\n",
        "\n",
        "X_train,X_val, y_train, y_val = train_test_split(X,y, stratify=y, test_size=0.3, random_state=1)\n",
        "X_train.shape, y_train.shape, X_val.shape,y_val.shape"
      ],
      "execution_count": 43,
      "outputs": [
        {
          "output_type": "execute_result",
          "data": {
            "text/plain": [
              "((5544,), (5544,), (2376,), (2376,))"
            ]
          },
          "metadata": {},
          "execution_count": 43
        }
      ]
    }
  ]
}