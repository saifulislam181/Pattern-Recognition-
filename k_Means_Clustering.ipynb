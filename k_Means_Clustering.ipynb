{
  "nbformat": 4,
  "nbformat_minor": 0,
  "metadata": {
    "colab": {
      "name": "k Means Clustering.ipynb",
      "provenance": [],
      "collapsed_sections": []
    },
    "kernelspec": {
      "display_name": "Python 3",
      "name": "python3"
    }
  },
  "cells": [
    {
      "cell_type": "code",
      "metadata": {
        "id": "iPJcNpbe3aPw",
        "colab": {
          "base_uri": "https://localhost:8080/",
          "height": 302
        },
        "outputId": "bd3ebde7-9560-40ac-f1a0-fecaadf5d27e"
      },
      "source": [
        "import math\n",
        "import numpy as np\n",
        "import csv\n",
        "import matplotlib.pyplot as plt\n",
        "from math import sqrt, floor\n",
        "from numpy import genfromtxt\n",
        "from statistics import mean\n",
        "import copy\n",
        "\n",
        "\n",
        "data_path = 'sample_data/data.csv'\n",
        "data = genfromtxt(data_path, delimiter=',')\n",
        "data_path = 'sample_data/centers.csv'\n",
        "centers = genfromtxt(data_path, delimiter=',')\n",
        "\n",
        "\n",
        "cluster = [[1 for j in range(0)] for i in range(data.shape[0])]\n",
        "\n",
        "temp_cluster = [[1 for j in range(0)] for i in range(data.shape[0])]\n",
        "\n",
        "print(cluster) \n",
        "\n",
        "\n",
        "\n",
        "itrr = 0\n",
        "while True:\n",
        "  for clr in range(0, 6):\n",
        "    temp_cluster[clr].clear()\n",
        "  for s in data:\n",
        "    dist = []\n",
        "    for c in data :\n",
        "      dist.append(math.sqrt((c[0] - s[0]) ** 2 + (c[1] - s[1]) ** 2))\n",
        "    min_dist = min(dist)\n",
        "    index_min = dist.index(min_dist)\n",
        "    index_data = (np.where(data == s))[0][0]\n",
        "    if index_data in temp_cluster[index_min]:\n",
        "      pass\n",
        "    else:\n",
        "      temp_cluster[index_min].append(index_data)\n",
        "\n",
        "  new_center = []\n",
        "  for L in temp_cluster:\n",
        "    sum_xi = 0\n",
        "    sum_yi = 0\n",
        "\n",
        "    for i in L:\n",
        "      sum_xi += data[i][0]\n",
        "      sum_yi += data[i][1]\n",
        "    avg_x = sum_xi / len(L)\n",
        "    avg_y = sum_yi / len(L)\n",
        "    new_center.append([avg_x, avg_y])\n",
        "\n",
        "  centers = copy.deepcopy(new_center)\n",
        "  itrr += 1\n",
        "  if itrr > 1:\n",
        "    shift = 0\n",
        "    for x in range(data.shape[0]):\n",
        "      c = -1\n",
        "      tc = -1\n",
        "      if x in cluster[0]:\n",
        "        c = 0\n",
        "      elif x in cluster[1]:\n",
        "        c = 1\n",
        "      elif x in cluster[2]:\n",
        "        c = 2\n",
        "      elif x in cluster[3]:\n",
        "        c = 3\n",
        "      elif x in cluster[4]:\n",
        "        c = 4\n",
        "      elif x in cluster[5]:\n",
        "        c = 5\n",
        "\n",
        "      if x in temp_cluster[0]:\n",
        "        tc = 0\n",
        "      elif x in temp_cluster[1]:\n",
        "        tc = 1\n",
        "      elif x in temp_cluster[2]:\n",
        "        tc = 2\n",
        "      elif x in temp_cluster[3]:\n",
        "        tc = 3\n",
        "      elif x in temp_cluster[4]:\n",
        "        tc = 4\n",
        "      elif x in temp_cluster[5]:\n",
        "        tc = 5\n",
        "\n",
        "      if c != tc:\n",
        "        shift += 1\n",
        "\n",
        "    if shift < 10:\n",
        "      clusters = copy.deepcopy(temp_cluster)\n",
        "      break\n",
        "  cluster = copy.deepcopy(temp_cluster)\n",
        "centers = np.array(centers)\n",
        "plt.scatter(data[cluster[0]][:, :1], data[cluster[0]][:, 1:2], c='blue')\n",
        "plt.scatter(data[cluster[1]][:, :1], data[cluster[1]][:, 1:2], c='red')\n",
        "plt.scatter(data[cluster[2]][:, :1], data[cluster[2]][:, 1:2], c='green')\n",
        "plt.scatter(data[cluster[3]][:, :1], data[cluster[3]][:, 1:2], c='yellow')\n",
        "plt.scatter(data[cluster[4]][:, :1], data[cluster[4]][:, 1:2], c='orange')\n",
        "plt.scatter(data[cluster[5]][:, :1], data[cluster[5]][:, 1:2], c='cyan')\n",
        "#plt.scatter(centers[:, :1], centers[:, 1:2], c='pink')\n",
        "plt.show()\n",
        " "
      ],
      "execution_count": null,
      "outputs": [
        {
          "output_type": "stream",
          "text": [
            "[[], [], [], [], [], [], [], [], [], [], [], [], [], [], [], [], [], [], [], [], [], [], [], [], [], [], [], [], [], [], [], [], [], [], [], [], [], [], [], [], [], [], [], [], [], [], [], [], [], [], [], [], [], [], [], [], [], [], [], [], [], [], [], [], [], [], [], [], [], [], [], [], [], [], [], [], [], [], [], [], [], [], [], [], [], [], [], [], [], [], [], [], [], [], [], [], [], [], [], [], [], [], [], [], [], [], [], [], [], [], [], [], [], [], [], [], [], [], [], [], [], [], [], [], [], [], [], [], [], [], [], [], [], [], [], [], [], [], [], [], [], [], [], [], [], [], [], [], [], [], [], [], [], [], [], [], [], [], [], [], [], [], [], [], [], [], [], [], [], [], [], [], [], [], [], [], [], [], [], [], [], [], [], [], [], [], [], [], [], [], [], [], [], [], [], [], [], [], [], [], [], [], [], [], [], [], [], [], [], [], [], [], [], [], [], [], [], [], [], [], [], [], [], [], [], [], [], [], [], [], [], [], [], [], [], [], [], [], [], [], [], [], [], [], [], [], [], [], [], [], [], [], [], [], [], [], [], [], [], [], [], [], [], [], [], [], [], [], [], [], [], [], [], [], [], [], [], [], [], [], [], [], [], [], [], [], [], [], [], [], [], [], [], [], [], [], [], [], [], [], [], [], [], [], [], [], [], [], [], [], [], [], [], [], [], [], [], [], [], [], [], [], [], [], [], [], [], [], [], [], [], [], [], [], [], [], [], [], [], [], [], [], [], [], [], [], [], [], [], [], [], [], [], [], [], [], [], [], [], [], [], [], [], [], [], [], [], [], [], [], [], [], [], [], [], [], [], [], [], [], [], [], [], [], [], [], [], [], [], [], [], [], [], [], [], [], [], [], [], [], [], [], [], [], [], [], [], [], [], [], [], [], [], [], [], [], [], [], [], [], [], [], [], [], [], [], [], [], [], [], [], [], [], [], [], [], [], [], [], [], [], [], [], [], [], [], [], [], [], [], [], [], [], [], [], [], [], [], [], [], [], [], [], [], [], [], [], [], [], [], [], [], [], [], [], [], [], [], [], [], [], [], [], [], [], [], [], [], [], [], [], [], [], [], [], [], [], [], [], [], [], [], [], [], [], [], [], [], [], [], [], [], [], [], [], [], [], [], [], [], [], [], [], [], [], [], [], [], [], [], [], [], [], [], [], [], [], [], [], [], [], [], [], [], [], [], [], [], [], [], [], [], [], [], [], [], [], [], [], [], [], [], [], [], [], [], [], [], [], [], [], [], [], [], [], [], [], [], [], [], [], [], [], [], [], [], [], [], [], [], [], [], [], [], [], [], [], [], [], [], [], [], [], [], [], [], [], [], [], [], [], [], [], [], [], [], [], [], [], [], [], [], [], [], [], [], [], [], [], [], [], [], [], [], [], [], [], [], [], [], [], [], [], [], [], [], [], [], [], [], [], [], [], [], [], [], [], [], [], [], [], [], [], [], [], [], [], [], [], [], [], [], [], [], [], [], [], [], [], [], [], [], [], [], [], [], [], [], [], [], [], [], [], [], [], [], [], [], [], [], [], [], [], [], [], [], [], [], [], [], [], [], [], [], [], [], [], [], [], [], [], [], [], [], [], [], [], [], [], [], [], [], [], [], [], [], [], [], [], [], [], [], [], [], [], [], [], [], [], [], [], [], [], [], [], [], [], [], [], [], [], [], [], [], [], [], [], [], [], [], [], [], [], [], [], [], [], [], [], [], [], [], [], [], [], [], [], [], [], [], [], [], [], [], [], [], [], [], [], [], [], [], [], [], [], [], [], [], [], [], [], [], [], [], [], [], [], [], [], [], [], [], [], [], [], [], [], [], [], [], [], [], [], [], [], [], [], [], [], [], [], [], [], [], [], [], [], [], [], [], [], [], [], [], [], [], [], [], [], [], [], [], [], [], [], [], [], [], [], [], [], [], [], [], [], [], [], [], [], [], [], [], [], [], [], [], [], [], [], [], [], [], [], [], [], [], [], [], [], [], [], [], [], [], [], [], [], [], [], [], [], [], [], [], [], [], [], [], [], [], [], [], [], [], [], [], [], [], [], [], [], [], [], [], [], [], [], [], [], [], [], [], [], [], [], [], [], [], [], [], [], [], [], [], [], [], [], [], [], [], [], [], [], [], [], [], [], [], [], [], [], [], [], [], [], [], [], [], [], [], [], [], [], [], [], [], [], [], [], [], [], [], [], [], [], [], [], [], [], [], [], [], [], [], [], [], [], [], [], [], [], [], [], [], [], [], [], [], [], [], [], [], [], [], [], [], [], [], [], [], [], [], [], [], [], [], [], [], [], [], [], [], [], [], [], [], [], [], [], [], [], [], [], [], [], [], [], [], [], [], [], [], [], [], [], [], [], [], [], [], [], [], [], [], [], [], [], [], [], [], [], [], [], [], [], [], [], [], [], [], [], [], [], [], [], [], [], [], [], [], [], [], [], [], [], [], [], [], [], [], [], [], [], [], [], [], [], [], [], [], [], [], [], [], [], [], [], [], [], [], [], [], [], [], [], [], [], [], [], [], [], [], [], [], [], [], [], [], [], [], [], [], [], [], [], [], [], [], [], [], [], [], [], [], [], [], [], [], [], [], [], [], [], [], [], [], [], [], [], [], [], [], [], [], [], [], [], [], [], [], [], [], [], [], [], [], [], [], [], []]\n"
          ],
          "name": "stdout"
        },
        {
          "output_type": "display_data",
          "data": {
            "image/png": "[encoded data removed]",
            "text/plain": [
              "<Figure size 432x288 with 1 Axes>"
            ]
          },
          "metadata": {
            "tags": [],
            "needs_background": "light"
          }
        }
      ]
    }
  ]
}