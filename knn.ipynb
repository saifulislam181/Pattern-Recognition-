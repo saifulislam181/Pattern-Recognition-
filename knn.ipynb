{
  "nbformat": 4,
  "nbformat_minor": 0,
  "metadata": {
    "colab": {
      "name": "knn_text_preprocessing.ipynb",
      "provenance": []
    },
    "kernelspec": {
      "name": "python3",
      "display_name": "Python 3"
    },
    "language_info": {
      "name": "python"
    }
  },
  "cells": [
    {
      "cell_type": "code",
      "metadata": {
        "id": "UuMgGjZZmb8u"
      },
      "source": [
        "import pandas as pd\n",
        "\n",
        "data = pd.read_csv(\"train.csv\")\n",
        "\n",
        "newData = data.iloc[0:50, :]"
      ],
      "execution_count": 30,
      "outputs": []
    },
    {
      "cell_type": "code",
      "metadata": {
        "colab": {
          "base_uri": "https://localhost:8080/"
        },
        "id": "gWeJq2NNsnYu",
        "outputId": "e302fc4c-f480-4e35-cf35-de0034a4b3b7"
      },
      "source": [
        "import nltk\n",
        "nltk.download('punkt')\n",
        "nltk.download('stopwords')\n",
        "nltk.download('wordnet')"
      ],
      "execution_count": 31,
      "outputs": [
        {
          "output_type": "stream",
          "name": "stdout",
          "text": [
            "[nltk_data] Downloading package punkt to /root/nltk_data...\n",
            "[nltk_data]   Package punkt is already up-to-date!\n",
            "[nltk_data] Downloading package stopwords to /root/nltk_data...\n",
            "[nltk_data]   Package stopwords is already up-to-date!\n",
            "[nltk_data] Downloading package wordnet to /root/nltk_data...\n",
            "[nltk_data]   Package wordnet is already up-to-date!\n"
          ]
        },
        {
          "output_type": "execute_result",
          "data": {
            "text/plain": [
              "True"
            ]
          },
          "metadata": {},
          "execution_count": 31
        }
      ]
    },
    {
      "cell_type": "code",
      "metadata": {
        "id": "YNFKZiBPoNSO"
      },
      "source": [
        "import nltk\n",
        "from nltk.tokenize import word_tokenize\n",
        "from nltk.corpus import stopwords\n",
        "from nltk.stem import WordNetLemmatizer\n",
        "from nltk.stem import PorterStemmer\n",
        "from collections import Counter\n",
        "import string\n",
        "def text_process(text):\n",
        "\n",
        "    text = text.lower()\n",
        "    # print(\"\\n===After Lowercase:===\\n\", text)\n",
        "\n",
        "    #Number Removal\n",
        "    import re\n",
        "    text = re.sub(r'[-+]?\\d+', '', text)\n",
        "    # print(\"\\n===After Removing Numbers:===\\n\", text)\n",
        "\n",
        "    #Remove punctuations\n",
        "    text=text.translate((str.maketrans('','',string.punctuation)))\n",
        "    # print(\"\\n===After Removing Punctuations:===\\n\", text)\n",
        "\n",
        "    #Tokenize\n",
        "    text = word_tokenize(text)\n",
        "    # print(\"\\n===After Tokenizing:===\\n\", text)\n",
        "\n",
        "    #Remove stopwords\n",
        "    stop_words = set(stopwords.words('english'))\n",
        "    text = [word for word in text if not word in stop_words]\n",
        "    # print(\"\\n===After Stopword Removal:===\\n\", text)\n",
        "\n",
        "    #Lemmatize tokens\n",
        "    lemmatizer=WordNetLemmatizer()\n",
        "    text = [lemmatizer.lemmatize(word) for word in text]\n",
        "    # print(\"\\n===After Lemmatization:===\\n\", text)\n",
        "\n",
        "    #Stemming tokens\n",
        "    stemmer= PorterStemmer()\n",
        "    text = [stemmer.stem(word) for word in text]\n",
        "    # print(\"\\n===After Stemming:===\\n\", text)\n",
        "    counts = Counter(text)\n",
        "    return list(counts.items())"
      ],
      "execution_count": 33,
      "outputs": []
    },
    {
      "cell_type": "code",
      "metadata": {
        "colab": {
          "base_uri": "https://localhost:8080/"
        },
        "id": "yndjW3Z7og8k",
        "outputId": "57c303c4-75a7-4dd5-e044-a7599b01d323"
      },
      "source": [
        "#Copy this cell\n",
        "\n",
        "vocabulary = set()\n",
        "train_document={}\n",
        "label = list()\n",
        "\n",
        "i = 0\n",
        "\n",
        "for row in zip(newData[\"label\"],newData[ \"tweet\"]):\n",
        "  body = text_process(row[1])\n",
        "  vocabulary.update(a for a,b in body)\n",
        "  train_document[i] = body\n",
        "  label.append(row[0])\n",
        "  i = i+1\n",
        "\n",
        "print(vocabulary)\n",
        "print(train_document)"
      ],
      "execution_count": 44,
      "outputs": [
        {
          "output_type": "stream",
          "name": "stdout",
          "text": [
            "{'go', 'lol', 'httpsgooglhmfqv', 'talk', 'friend', 'end', 'four', 'overnight', 'downtown', 'bitcoinboy', 'water', 'sister', 'picoftheday', 'wont', 'httpinstagrampqgjpimn', 'rob', 'cross', 'softwar', 'email', 'pipelin', 'camera', 'png', 'hard', 'latepost', 'httpswwwinstagramcompbcsktnnnc', 'view', 'blackandwhit', 'lunchtim', 'black', 'cant', 'gift', 'httpinstagrampliujsk', 'cheap', 'httpsbestcheapphonescomindexphpproductnewsweetdmineralwaterbottleloveicecreamphonecasecouplessoftsiliconerubbercaseforiphonespluss', 'face', 'shop', 'googl', '…pictwittercomcxifijjg', 'design', 'summer', 'bake', 'ziess', 'samsung', 'happi', 'screen', 'youtub', 'million', 'duuud', 'easter', 'one', 'back', 'mcmafia', 'sky', 'relax', 'act', 'inch', 'made', 'bigboy', 'logo', 'listen', 'fuckin', 'bunni', 'destroy', 'httpinstagramcomppzjooaqqz', 'toward', 'landscap', 'southerncharm', 'httpinstagrampriqsbabgo', 'iphoneplu', 'simpli', 'big', 'laugh', 'pay', 'music', 'contempl', 'deepellum', 'httpfbmenlsupcu', 'din', 'must', 'onelov', 'ch', 'type', 'havent', 'pearl', 'sexi', 'young', 'leg', 'instacool', 'servic', 'lose', 'httpswwwinstagramcompbzyxcxhqv', 'bday', 'machineri', 'green', 'recip', 'share', 'pic', 'samsunggalaxi', 'lightskin', 'stand', 'mylifepictwittercommmhcqyadb', 'wifi', 'truthbetold', 'seem', 'mylook', 'countri', 'justm', 'cherri', 'gunna', 'earli', 'natur', 'vlog', 'actor', 'fashion', 'would', 'sirriious', 'song', 'button', 'sunset', 'iphoneonli', 'bandwagon', 'technolog', 'look', 'p', 'even', 'make', 'waiter', 'excus', 'timelaps', 'sun', 'complet', 'instahub', 'tmz', 'monday', 'httpinstagrampwelxefuno', 'everi', 'kill', 'photographi', 'goal', 'free', 'georgia', 'dear', 'hoggpictwittercommnogp', 'cupcak', 'hateappl', 'bay', 'time', 'final', 'dog', 'likeshttpfbmetnxfdk', 'movi', 'httpinstagramcompyxhudzhhfb', 'work', 'cellcom', 'soni', 'americanidol', 'minit', 'potd…', 'let', 'moment', 'unless', 'food', 'ootd', 'gril', '…', 'purchas', 'georg', 'piggi', 'yay', 'tech', 'pie', 'pitbul', 'evemun', 'demi', 'u', 'startup', 'cottd', 'iger', 'film', 'direzionevertical', 'io', 'five', 'start', 'check', 'daili', 'pictwittercompjiwqwtc', 'httpinstagrampnuyfhvyei', 'america', 'store', 'year', 'case', 'dont', 'hit', 'instadaili', 'bigd', 'famili', 'c', 'friendship', 'travel', 'xperiaz', 'individu', 'sonyexperias…', 'httpinstagramcompmssnkapx', 'idontwantto', 'photoeveryday', 'updat', 'etsi', 'lookoftheday', 'feb', 'wall', 'xperia', 'charger', 'text', 'got', 'keep', 'instagram…', 'thinner', 'drinkyourhaterad', 'android', 'charg', 'publish', 'someon', 'xbox', 'instap', 'bull', 'wild', 'question', 'httpinstagramcompygetjcjm', 'silicon', 'instago', 'new', 'iphonesia', 'spectr', 'live', 'support', 'clear', 'curlyhair', 'realitycheck', 'smartphon', 'httpinstagramprbxwmdnvh', 'advanc', 'im', 'want', 'diamond', 'suewe', 'suck', 'program', 'mutitaedibleartgmailcompictwittercomjhwphfbgt', 'eeeeee', 'custom', 'case…', 'phone', 'week', 'thumbnail', 'instgramhub', 'httpsinstagramcompzqgfwlvj', 'uk', 'note', 'samlouis', 'cabl', 'delet', 'video', 'ahhhh', 'cut', 'build', 'httpinstagramcompesxzmizbl', 'home', 'hateorang', 'girl', 'sunday', 'galaxi', 'httpinstagramcompxhroikktlp', 'italy…', 'followforfollow', 'patent', 'selfi', 'noth', 'photo', 'commerci', 'unplug', 'depress', 'outdoor', 'alway', 'hey', 'itun', 'mani', 'subscrib', 'game', 'done', 'acquisto', 'urban', 'cannon', 'losangel', 'everybodi', 'httpinstagrampvjbgtlql', 'rx', 'fuck', 'tobi', 'hollywood', 'health', 'tweegram', 'rxm', 'bought', 'get', 'uncl', 'httpinstagramcompdrsqryb', 'realli', '’', 'shotoniphonpictwittercomeceiain', 'wood', 'pink', 'prior', 'pregnanc', 'mimmoal', 'iphonex', 'app', 'tree', 'market', 'ball', 'cute', 'ladi', 'freak', 'hidden', 'ipod', 'del', 'poser', '…pictwittercomgfknyecj', 'fun', 'mess', 'channel', 'likeforlik', 'blackberrypictwittercomzpggdcazn', 'day', 'billion', 'truth', 'love', 'instas', 'nfl', 'httpsyoutubeoaxlmrsda', 'saturday', 'troll', 'crazi', 'thiphon', 'forest', 'makememori', 'americanbulli', 'candid', 'agre', 're', 'life', 'sundayvib', 'taken', 'bout', 'boy', 'flower', 'eye', 'differ', 'iphon', 'thislif', 'follow', 'httpinstagrampbdvcq', 'beauti', 'color', 'lifeisgood', 'pain', 'soangri', 'attitud', 'pool', 'muscl', 'parti', 'majest', 'bellypierc', 'actress', 'biker', 'bestfriend', 'wire', 'dalla', 'reason', 'touch', 'wallpap', 'receiv', 'transpar', 'philippin', 'dead', 'ur', 'photooftheday', 'ive', 'like', 'test', 'produc', 'nswrl', 'window', 'know', 'ha', 'myloss', 'set', 'way', 'anoth', 'bad', 'fingerprint', 'ipad', 'instagood', 'worldwid', 'drop', 'amaz', 'instagram', 'httpwwwebaycoukitm', 'frozen', 'amazon', 'shaqlockholm', 'httpswwwinstagramcompbkvrsqjgtnutmsourceigtwittershareigshidsokabdsbh', 'creat', 'sweet', 'accident', 'appl', 'heavi', 'thank', 'taylor', 'startupvideo', 'see', 'kansa', 'stupid', 'wife', 'followforfollow…', 'crash', 'connect', 'give', 'art', 'mylif', 'soup', 'smile', 'broke', 'play', 'christma', 'httptmblrcozajcnmsgp', 'fact', 'theori', 'videoproduct', 'fuckingpiss', 'batteri', 'twitch', 'need', 'daventri', 'watch', 'newyear'}\n",
            "{0: [('fingerprint', 1), ('pregnanc', 1), ('test', 1), ('httpsgooglhmfqv', 1), ('android', 1), ('app', 1), ('beauti', 1), ('cute', 1), ('health', 1), ('iger', 1), ('iphoneonli', 1), ('iphonesia', 1), ('iphon', 1)], 1: [('final', 1), ('transpar', 1), ('silicon', 1), ('case', 1), ('thank', 1), ('uncl', 1), ('yay', 1), ('soni', 1), ('xperia', 1), ('sonyexperias…', 1), ('httpinstagramcompygetjcjm', 1)], 2: [('love', 1), ('would', 1), ('go', 1), ('talk', 1), ('makememori', 1), ('unplug', 1), ('relax', 1), ('iphon', 1), ('smartphon', 1), ('wifi', 1), ('connect', 1), ('httpfbmenlsupcu', 1)], 3: [('im', 2), ('wire', 1), ('know', 1), ('georg', 1), ('made', 1), ('way', 1), ('iphon', 1), ('cute', 1), ('daventri', 1), ('home', 1), ('httpinstagrampliujsk', 1)], 4: [('amaz', 1), ('servic', 1), ('appl', 1), ('wont', 1), ('even', 1), ('talk', 1), ('question', 1), ('unless', 1), ('pay', 1), ('stupid', 1), ('support', 1)], 5: [('iphon', 2), ('softwar', 1), ('updat', 1), ('fuck', 1), ('phone', 1), ('big', 1), ('time', 1), ('stupid', 1)], 6: [('happi', 1), ('u', 2), ('instap', 1), ('instadaili', 1), ('soni', 1), ('xperia', 1), ('xperiaz', 1), ('httpsinstagramcompzqgfwlvj', 1)], 7: [('new', 2), ('type', 1), ('c', 1), ('charger', 1), ('cabl', 1), ('uk', 1), ('httpwwwebaycoukitm', 1), ('…', 1), ('bay', 1), ('amazon', 1), ('etsi', 1), ('year', 1), ('rob', 1), ('cross', 1), ('tobi', 1), ('young', 1), ('evemun', 1), ('mcmafia', 1), ('taylor', 1), ('spectr', 1), ('newyear', 1), ('start', 1), ('recip', 1), ('technolog', 1), ('samsunggalaxi', 1), ('iphonex', 1), ('pictwittercompjiwqwtc', 1)], 8: [('bout', 1), ('go', 1), ('shop', 1), ('listen', 1), ('music', 2), ('iphon', 1), ('justm', 1), ('likeforlik', 1), ('followforfollow…', 1), ('httpinstagrampvjbgtlql', 1)], 9: [('photo', 1), ('fun', 1), ('selfi', 1), ('pool', 1), ('water', 1), ('soni', 1), ('camera', 1), ('picoftheday', 1), ('sun', 1), ('instagood', 1), ('boy', 1), ('cute', 1), ('outdoor', 1), ('httptmblrcozajcnmsgp', 1)], 10: [('hey', 1), ('appl', 1), ('make', 3), ('new', 2), ('ipod', 1), ('dont', 1), ('color', 1), ('inch', 1), ('thinner', 1), ('crash', 1), ('everi', 1), ('five', 1), ('fuckin', 1), ('minit', 1)], 11: [('ha', 1), ('heavi', 1), ('machineri', 1), ('need', 1), ('appl', 1), ('realli', 1), ('drop', 1), ('ball', 1), ('design', 1), ('drinkyourhaterad', 1)], 12: [('contempl', 1), ('give', 1), ('iphon', 1), ('bandwagon', 1), ('simpli', 1), ('cellcom', 1), ('new', 1), ('android', 1), ('depress', 1), ('idontwantto', 1)], 13: [('made', 1), ('anoth', 1), ('crazi', 1), ('purchas', 1), ('lol', 2), ('theori', 1), ('work', 1), ('hard', 2), ('play', 1), ('ipad', 1), ('appl', 1), ('shop', 1), ('httpinstagrampnuyfhvyei', 1)], 14: [('shaqlockholm', 1), ('samlouis', 1), ('batteri', 2), ('pain', 1), ('charg', 1), ('overnight', 1), ('lunchtim', 1), ('dead', 1), ('hateorang', 1)], 15: [('deepellum', 1), ('toward', 1), ('downtown', 1), ('dalla', 1), ('bigd', 1), ('saturday', 1), ('rxm', 1), ('soni', 1), ('summer', 1), ('urban', 1), ('httpinstagramcomppzjooaqqz', 1)], 16: [('like', 1), ('share', 1), ('want', 1), ('phone', 1), ('case', 1), ('iphon', 2), ('httpsbestcheapphonescomindexphpproductnewsweetdmineralwaterbottleloveicecreamphonecasecouplessoftsiliconerubbercaseforiphonespluss', 1), ('…pictwittercomgfknyecj', 1)], 17: [('go', 1), ('crazi', 1), ('iphonesia', 1), ('iphon', 1), ('instagood', 1), ('instagram', 1), ('photooftheday', 1), ('tweegram', 1), ('…', 1), ('httpinstagramcompdrsqryb', 1)], 18: [('reason', 1), ('dont', 1), ('one', 1), ('iphon', 1), ('suck', 1), ('appl', 1), ('truth', 1), ('truthbetold', 1), ('agre', 1), ('fact', 1), ('realitycheck', 1), ('blackberrypictwittercomzpggdcazn', 1)], 19: [('appl', 2), ('store', 2), ('gunna', 1), ('c', 1), ('screen', 1), ('monday', 1), ('ur', 1), ('fuck', 1), ('fuckingpiss', 1)], 20: [('appl', 1), ('art', 1), ('easter', 2), ('dear', 1), ('friend', 1), ('would', 1), ('like', 1), ('publish', 1), ('channel', 1), ('design', 1), ('face', 1), ('bunni', 1), ('email', 2), ('png', 1), ('thumbnail', 1), ('mutitaedibleartgmailcompictwittercomjhwphfbgt', 1)], 21: [('excus', 1), ('waiter', 1), ('seem', 1), ('pie', 2), ('soup', 1), ('wife', 1), ('bake', 1), ('appl', 1), ('yay', 1), ('httpinstagrampqgjpimn', 1)], 22: [('ive', 1), ('new', 1), ('ipod', 1), ('four', 1), ('day', 1), ('button', 1), ('back', 1), ('broke', 1), ('accident', 1), ('hit', 1)], 23: [('iphon', 1), ('screen', 1), ('go', 1), ('complet', 1), ('black', 1), ('keep', 1), ('get', 1), ('text', 1), ('day', 1), ('cant', 1), ('fuck', 1), ('check', 1), ('appl', 1), ('thiphon', 1)], 24: [('time', 1), ('new', 1), ('wallpap', 2), ('phone', 1), ('wall', 1), ('screen', 1), ('galaxi', 1), ('samsung', 1), ('app', 1), ('…', 1), ('httpswwwinstagramcompbcsktnnnc', 1)], 25: [('billion', 1), ('patent', 2), ('prior', 1), ('art', 1), ('million', 1), ('troll', 1), ('parti', 1), ('thank', 1), ('appl', 2)], 26: [('ipod', 1), ('mess', 1), ('havent', 1), ('done', 1), ('noth', 1), ('myloss', 1), ('appl', 1)], 27: [('ipod', 1), ('touch', 1), ('frozen', 1), ('appl', 1), ('logo', 1), ('start', 1), ('lose', 1), ('demi', 1), ('music', 1), ('pic', 1), ('kill', 1), ('someon', 1), ('soangri', 1), ('hateappl', 1)], 28: [('love', 1), ('new', 2), ('phone', 1), ('case', 1), ('flower', 1), ('green', 1), ('diamond', 1), ('pearl', 1), ('cute', 1), ('iphon', 2), ('case…', 1), ('httpinstagrampwelxefuno', 1)], 29: [('must', 1), ('watch', 1), ('youtub', 1), ('subscrib', 1), ('daili', 1), ('vlog', 1), ('twitch', 1), ('game', 2), ('fun', 1), ('p', 1), ('xbox', 1), ('soni', 1), ('io', 1), ('android', 1), ('httpsyoutubeoaxlmrsda', 1)], 30: [('thank', 1), ('samsung', 1), ('live', 1), ('laugh', 1), ('life', 1), ('food', 1), ('philippin', 1), ('instago', 1), ('instahub', 1), ('instagram…', 1), ('httpinstagramcompyxhudzhhfb', 1)], 31: [('ch', 1), ('cannon', 1), ('suewe', 1), ('friendship', 1), ('americanbulli', 1), ('dog', 1), ('piggi', 1), ('famili', 1), ('southerncharm', 1), ('americanidol', 1), ('goal', 1), ('bestfriend', 1), ('pitbul', 1), ('iphonex', 1), ('onelov', 1), ('countri', 1), ('muscl', 1), ('nfl', 1), ('worldwid', 1), ('america', 1), ('bigboy', 1), ('thislif', 1), ('tmz', 1), ('wild', 1), ('hoggpictwittercommnogp', 1)], 32: [('instap', 1), ('mimmoal', 1), ('feb', 1), ('taken', 1), ('soni', 1), ('rx', 1), ('direzionevertical', 1), ('sunset', 1), ('sky', 1), ('beauti', 1), ('fun', 1), ('…pictwittercomcxifijjg', 1)], 33: [('im', 1), ('happi', 2), ('sister', 1), ('bought', 1), ('new', 1), ('phone', 1), ('earli', 1), ('bday', 1), ('gift', 1), ('samsung', 1)], 34: [('receiv', 1), ('samsung', 1), ('note', 1), ('mani', 1), ('thank', 1), ('cottd', 1), ('phone', 1), ('httpinstagrampriqsbabgo', 1)], 35: [('nswrl', 1), ('app', 1), ('android', 1), ('market', 1), ('pipelin', 1)], 36: [('cant', 1), ('delet', 1), ('individu', 1), ('song', 1), ('phone', 1), ('appl', 1), ('itun', 1)], 37: [('everybodi', 1), ('freak', 1), ('io', 1), ('im', 1), ('like', 1), ('duuud', 1), ('even', 1), ('window', 1), ('phone', 1), ('advanc', 1), ('iphon', 1), ('custom', 1)], 38: [('new', 1), ('iphon', 1), ('c', 2), ('stand', 2), ('sirriious', 1), ('bad', 1), ('cheap', 1), ('screen', 1), ('re', 1), ('camera', 1), ('tech', 1), ('appl', 1)], 39: [('bull', 1), ('instas', 1), ('leg', 1), ('lightskin', 1), ('curlyhair', 1), ('iphon', 1), ('bellypierc', 1), ('smile', 1), ('potd…', 1), ('httpinstagramcompesxzmizbl', 1)], 40: [('din', 1), ('’', 2), ('creat', 1), ('let', 1), ('destroy', 1), ('candid', 1), ('photo', 1), ('iphonex', 1), ('sunday', 1), ('sundayvib', 1), ('smile', 1), ('alway', 1), ('photooftheday', 1), ('eye', 1), ('ootd', 1), ('fashion', 1), ('blackandwhit', 1), ('poser', 1), ('attitud', 1), ('lifeisgood', 1), ('mylook', 1), ('mylif', 1), ('photoeveryday', 1), ('lookoftheday', 1), ('latepost', 1), ('mylifepictwittercommmhcqyadb', 1)], 41: [('film', 1), ('set', 1), ('build', 1), ('timelaps', 1), ('video', 1), ('photooftheday', 1), ('beauti', 1), ('produc', 1), ('live', 1), ('fashion', 1), ('videoproduct', 1), ('cute', 1), ('follow', 1), ('commerci', 1), ('iphon', 1), ('appl', 1), ('actor', 1), ('actress', 1), ('iphonesia', 1), ('hollywood', 1), ('losangel', 1), ('picoftheday', 1), ('movi', 1), ('act', 1), ('startup', 1), ('startupvideo', 1), ('shotoniphonpictwittercomeceiain', 1)], 42: [('new', 1), ('phone', 1), ('cupcak', 1), ('wallpap', 1), ('pink', 1), ('cute', 1), ('sweet', 1), ('samsung', 1), ('cherri', 1), ('httpinstagramcompxhroikktlp', 1)], 43: [('eeeeee', 1), ('sexi', 1), ('ladi', 1), ('live', 1), ('iphon', 2), ('iphonesia', 1), ('instagood', 1), ('photooftheday', 1), ('tweegram', 1), ('httpinstagramprbxwmdnvh', 1)], 44: [('acquisto', 1), ('del', 1), ('week', 1), ('end', 1), ('iphon', 1), ('iphoneplu', 1), ('appl', 1), ('gril', 1), ('moment', 1), ('italy…', 1), ('httpswwwinstagramcompbzyxcxhqv', 1)], 45: [('majest', 1), ('see', 1), ('differ', 1), ('photographi', 1), ('natur', 1), ('landscap', 1), ('forest', 1), ('hidden', 1), ('clear', 1), ('view', 1), ('wood', 1), ('tree', 1), ('travel', 1), ('biker', 1), ('soni', 1), ('ziess', 1), ('photo', 1), ('instgramhub', 1), ('picoftheday', 1), ('httpswwwinstagramcompbkvrsqjgtnutmsourceigtwittershareigshidsokabdsbh', 1), ('…', 1)], 46: [('googl', 1), ('appl', 1), ('cut', 1), ('itun', 1), ('get', 1), ('program', 1)], 47: [('ahhhh', 1), ('look', 1), ('got', 1), ('christma', 2), ('iphon', 1), ('appl', 1), ('girl', 1), ('httpinstagrampbdvcq', 1)], 48: [('love', 2), ('like', 1), ('instacool', 1), ('photooftheday', 1), ('iphon', 1), ('instago', 1), ('food', 1), ('followforfollow', 1), ('likeshttpfbmetnxfdk', 1)], 49: [('follow', 1), ('play', 1), ('bitcoinboy', 1), ('iphon', 1), ('ipad', 1), ('ipod', 1), ('free', 1), ('game', 1), ('fun', 1), ('kansa', 1), ('georgia', 1), ('…', 1), ('httpinstagramcompmssnkapx', 1)]}\n"
          ]
        }
      ]
    },
    {
      "cell_type": "code",
      "metadata": {
        "id": "dxgX7ItzsJVL"
      },
      "source": [
        "def euclidean_distance(test, train, prevMaxMin = None):\n",
        "  return 1\n",
        "  #write your code here"
      ],
      "execution_count": null,
      "outputs": []
    },
    {
      "cell_type": "code",
      "metadata": {
        "colab": {
          "base_uri": "https://localhost:8080/",
          "height": 197
        },
        "id": "W97-cxsAsOBa",
        "outputId": "78d532e1-8d16-40cc-c8c1-c86fff58ce1a"
      },
      "source": [
        "def prediction(train, test, n_neighbors=1):\n",
        "    allTestNeighbers=[]\n",
        "    allPredictedOutputs =[]\n",
        "\n",
        "    allDistances = []\n",
        "    size = len(test)\n",
        "    half = size/2\n",
        "    quarter =  int(half/2)\n",
        "    third_quarter = 3*quarter\n",
        "\n",
        "    i =0 \n",
        "    MAX = 99999999\n",
        "    prevMaxMin = MAX\n",
        "    for r_test in test:\n",
        "        j =0\n",
        "        for r_train in train:\n",
        "            distance = euclidean_distance(r_test, r_train) \n",
        "            allDistances.append((j,  label[j], distance))\n",
        "            j+=1\n",
        "\n",
        "        allDistances.sort(key=lambda x: x[2], reverse=(method == TF_IDF))\n",
        "        voteCount = {}\n",
        "        # neighbors = []\n",
        "        for n in range(n_neighbors):\n",
        "            # neighbors.append(allDistances[n][0])\n",
        "            class_label = allDistances[n][1]\n",
        "            if class_label not in voteCount:\n",
        "                voteCount[class_label] = 1\n",
        "            else: \n",
        "                voteCount[class_label] += 1\n",
        "        \n",
        "        #Determine the Majority Voting (Equal weight considered)\n",
        "        predictedOutput = max(voteCount, key=voteCount.get)\n",
        "        \n",
        "        # allTestNeighbers.append(neighbors)\n",
        "        allPredictedOutputs.append(predictedOutput)\n",
        "        i+= 1\n",
        "        if i == half:\n",
        "            print(\"Half of the test is done\\n\")\n",
        "        elif i == size:\n",
        "            print(\"All done\")\n",
        "        \n",
        "    return allPredictedOutputs, allTestNeighbers\n",
        "\n",
        "allPredictedOutputs, allTestNeighbers = prediction(train_document, test_document)"
      ],
      "execution_count": 45,
      "outputs": [
        {
          "output_type": "error",
          "ename": "NameError",
          "evalue": "ignored",
          "traceback": [
            "\u001b[0;31m---------------------------------------------------------------------------\u001b[0m",
            "\u001b[0;31mNameError\u001b[0m                                 Traceback (most recent call last)",
            "\u001b[0;32m<ipython-input-45-150f5ca7cee4>\u001b[0m in \u001b[0;36m<module>\u001b[0;34m()\u001b[0m\n\u001b[1;32m     43\u001b[0m     \u001b[0;32mreturn\u001b[0m \u001b[0mallPredictedOutputs\u001b[0m\u001b[0;34m,\u001b[0m \u001b[0mallTestNeighbers\u001b[0m\u001b[0;34m\u001b[0m\u001b[0;34m\u001b[0m\u001b[0m\n\u001b[1;32m     44\u001b[0m \u001b[0;34m\u001b[0m\u001b[0m\n\u001b[0;32m---> 45\u001b[0;31m \u001b[0mallPredictedOutputs\u001b[0m\u001b[0;34m,\u001b[0m \u001b[0mallTestNeighbers\u001b[0m \u001b[0;34m=\u001b[0m \u001b[0mprediction\u001b[0m\u001b[0;34m(\u001b[0m\u001b[0mtrain_document\u001b[0m\u001b[0;34m,\u001b[0m \u001b[0mtest_document\u001b[0m\u001b[0;34m)\u001b[0m\u001b[0;34m\u001b[0m\u001b[0;34m\u001b[0m\u001b[0m\n\u001b[0m",
            "\u001b[0;31mNameError\u001b[0m: name 'test_document' is not defined"
          ]
        }
      ]
    },
    {
      "cell_type": "code",
      "metadata": {
        "colab": {
          "base_uri": "https://localhost:8080/"
        },
        "id": "jndogGeqywoZ",
        "outputId": "d9d48e0a-b53e-409d-835e-df81ff15c09e"
      },
      "source": [
        "\n",
        "for cell in zip(newData[\"label\"],newData[ \"tweet\"]):\n",
        "  print(cell[0])"
      ],
      "execution_count": 42,
      "outputs": [
        {
          "output_type": "stream",
          "name": "stdout",
          "text": [
            "0\n",
            "0\n",
            "0\n",
            "0\n",
            "1\n",
            "1\n",
            "0\n",
            "0\n",
            "0\n",
            "0\n",
            "1\n",
            "1\n",
            "1\n",
            "0\n",
            "1\n",
            "0\n",
            "0\n",
            "0\n",
            "1\n",
            "1\n",
            "0\n",
            "0\n",
            "1\n",
            "1\n",
            "0\n",
            "0\n",
            "1\n",
            "1\n",
            "0\n",
            "0\n",
            "0\n",
            "0\n",
            "0\n",
            "0\n",
            "0\n",
            "0\n",
            "1\n",
            "1\n",
            "1\n",
            "0\n",
            "0\n",
            "0\n",
            "0\n",
            "0\n",
            "0\n",
            "0\n",
            "1\n",
            "0\n",
            "0\n",
            "0\n"
          ]
        }
      ]
    }
  ]
}